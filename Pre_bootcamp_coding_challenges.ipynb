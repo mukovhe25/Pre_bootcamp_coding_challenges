{
 "cells": [
  {
   "cell_type": "markdown",
   "metadata": {},
   "source": [
    "# Mukovhe Lugisani"
   ]
  },
  {
   "cell_type": "markdown",
   "metadata": {},
   "source": [
    "## Task 1\n",
    "Convert this pseudocode into actual code. Make it run. Make sure you understand the results. This is a fundamental lesson:"
   ]
  },
  {
   "cell_type": "code",
   "execution_count": null,
   "metadata": {},
   "outputs": [],
   "source": [
    "x = 0\n",
    "y = 1\n",
    "Print the value of x\n",
    "Print the value of y\n",
    "x = x + 3\n",
    "y = y + x\n",
    "Print the value of x\n",
    "Print the value of y"
   ]
  },
  {
   "cell_type": "markdown",
   "metadata": {},
   "source": [
    "**Check your understanding:**\n",
    "\n",
    "Lots of people think this is easy then get it wrong later. Make sure you check yourself\n",
    "\n",
    "* do you know what pseudocode means? Did you look it up?\n",
    "* do you understand why x and y have the values they have at each point in the program?"
   ]
  },
  {
   "cell_type": "code",
   "execution_count": 4,
   "metadata": {},
   "outputs": [
    {
     "name": "stdout",
     "output_type": "stream",
     "text": [
      "The value of x is 0\n",
      "The value of y is 0\n"
     ]
    }
   ],
   "source": [
    "# Values of x and y\n",
    "x = 0\n",
    "y = 1\n",
    "\n",
    "# Printing the values of x and y\n",
    "print(\"The value of x is \" + str(x))\n",
    "print(\"The value of y is \" + str(x))"
   ]
  },
  {
   "cell_type": "code",
   "execution_count": 3,
   "metadata": {},
   "outputs": [
    {
     "name": "stdout",
     "output_type": "stream",
     "text": [
      "The value of x is 3\n",
      "The value of y is 3\n"
     ]
    }
   ],
   "source": [
    "# Updating the values of x and y\n",
    "x = x + 3\n",
    "y = y + 3\n",
    "\n",
    "# Printing new values of x and y\n",
    "print(\"The value of x is \" + str(x))\n",
    "print(\"The value of y is \" + str(x))"
   ]
  },
  {
   "cell_type": "markdown",
   "metadata": {},
   "source": [
    "## Task 2\n",
    "Convert this pseudocode into actual code. Make it run. Make sure you understand the results. This is a fundamental lesson. If you don’t understand the results then spend some time Googling BODMAS."
   ]
  },
  {
   "cell_type": "code",
   "execution_count": null,
   "metadata": {},
   "outputs": [],
   "source": [
    "\n",
    "x = 1 + 1 * 2\n",
    "y = (1 + 1) * 2\n",
    "z = 1 + ( 1 * 2 )\n",
    "a =  1 + 1 * 2 / 2\n",
    "b =  (1 + 1 * 2 ) /  2"
   ]
  },
  {
   "cell_type": "markdown",
   "metadata": {},
   "source": [
    "\n",
    "**Check your understanding:**\n",
    "\n",
    "* do you know what pseudocode means? Did you look it up?\n",
    "* do you understand why the variables have the values they have at each point in the program?\n",
    "* do you understand BODMAS?"
   ]
  },
  {
   "cell_type": "code",
   "execution_count": 165,
   "metadata": {},
   "outputs": [
    {
     "name": "stdout",
     "output_type": "stream",
     "text": [
      "Multiplication comes before addition, so 1 * 2 gives us 2, then 2 + 1 gives us 3\n",
      "Brackets comes before multiplication, so (1 + 1) gives us 2, then 2 * 2 gives us 4\n",
      "Brackets comes before addition, so (1 * 2) gives us 2, then 1 + 2 gives us 3\n",
      "Division comes first, multiplication 2nd and addition last,  so 2/2 gives us 1, 1 * 1 gives us 1, then 1 + 1 gives us 2.0\n",
      "Brackets comes before division, so (1 + 1 * 2) gives us 3, then 3 / 2 gives us 1.5\n"
     ]
    }
   ],
   "source": [
    "# DODMAS RULE\n",
    "\n",
    "x = 1 + 1 * 2\n",
    "print(\"Multiplication comes before addition, so 1 * 2 gives us 2, then 2 + 1 gives us \" + str(x))\n",
    "\n",
    "y = (1 + 1) * 2\n",
    "print(\"Brackets comes before multiplication, so (1 + 1) gives us 2, then 2 * 2 gives us \" + str(y))\n",
    "\n",
    "z = 1 + ( 1 * 2 )\n",
    "print(\"Brackets comes before addition, so (1 * 2) gives us 2, then 1 + 2 gives us \" + str(z))\n",
    "\n",
    "a =  1 + 1 * 2 / 2\n",
    "print(\"Division comes first, multiplication 2nd and addition last,  so 2/2 gives us 1, 1 * 1 gives us 1, then 1 + 1 gives us \" + str(a))\n",
    "\n",
    "b =  (1 + 1 * 2 ) /  2\n",
    "print(\"Brackets comes before division, so (1 + 1 * 2) gives us 3, then 3 / 2 gives us \" + str(b))"
   ]
  },
  {
   "cell_type": "markdown",
   "metadata": {},
   "source": [
    "## Task 3\n",
    "Write a function that takes 2 numbers as input. If either of the numbers is 65, OR if the sum of the numbers is 65 then return true. Otherwise return false."
   ]
  },
  {
   "cell_type": "code",
   "execution_count": 17,
   "metadata": {},
   "outputs": [
    {
     "name": "stdout",
     "output_type": "stream",
     "text": [
      "True\n",
      "False\n",
      "True\n"
     ]
    }
   ],
   "source": [
    "def num_65 (num_x, num_y):\n",
    "    if ((num_x == 65) | (num_y == 65)) | (num_x + num_y == 65):\n",
    "        return True\n",
    "    else:\n",
    "        return False\n",
    "    \n",
    "print(num_65(65,48))\n",
    "print(num_65(60,4))\n",
    "print(num_65(55,10))"
   ]
  },
  {
   "cell_type": "markdown",
   "metadata": {},
   "source": [
    "## Task 4\n",
    "Write a function that takes 2 numbers as input. If either of the numbers is 3 AND the sum of the numbers contains a 3 then return true. Otherwise return false"
   ]
  },
  {
   "cell_type": "code",
   "execution_count": 120,
   "metadata": {},
   "outputs": [
    {
     "name": "stdout",
     "output_type": "stream",
     "text": [
      "True\n",
      "False\n",
      "True\n"
     ]
    }
   ],
   "source": [
    "def num_3 (num_x, num_y):\n",
    "    \n",
    "    a = 0\n",
    "    test = ['3']\n",
    "    new = []\n",
    "    sum_xy = list(str(num_x + num_y))\n",
    "    \n",
    "    for test in sum_xy:\n",
    "        a += 1\n",
    "    \n",
    "        if (a >= 1) & ((num_x == 3) | (num_y == 3)):\n",
    "            return True\n",
    "        \n",
    "        else:\n",
    "            return False\n",
    "\n",
    "# Example  \n",
    "print(num_3(3,30))\n",
    "print(num_3(9,4))\n",
    "print(num_3(10,3))"
   ]
  },
  {
   "cell_type": "markdown",
   "metadata": {},
   "source": [
    "## Task 5\n",
    "Write a function that takes in three numbers. These numbers represent the lengths of the sides of a triangle. The function should return the area of a triangle.\n",
    "\n",
    "This might help: https://www.wikihow.com/Calculate-the-Area-of-a-Triangle"
   ]
  },
  {
   "cell_type": "code",
   "execution_count": 11,
   "metadata": {},
   "outputs": [
    {
     "name": "stdout",
     "output_type": "stream",
     "text": [
      "The area of a triangle with three sides of length 3m, 4m, and 3m is 4.47square meters.\n"
     ]
    }
   ],
   "source": [
    "import numpy as np\n",
    "\n",
    "def tri_area (p1, p2, p3):\n",
    "    s = (p1 + p2 + p3)/2\n",
    "    area = np.sqrt(s*(s-p1)*(s-p2)*(s-p3))\n",
    "    return area\n",
    "\n",
    "# Example\n",
    "a = 3\n",
    "b = 4\n",
    "c = 3\n",
    "\n",
    "# Assuming that the measurements are given in meters\n",
    "print(\"The area of a triangle with three sides of length \" + str(a) + \"m, \" + str(b) + \"m, and \" + str(c) + \"m is \" + str(np.round(tri_area(a,b,c), 2)) + \"square meters.\")"
   ]
  },
  {
   "cell_type": "markdown",
   "metadata": {},
   "source": [
    "## Task 6\n",
    "White a function that takes in three numbers and returns the maximum number. Do this without using any builtin methods. Write your own logic from scratch."
   ]
  },
  {
   "cell_type": "code",
   "execution_count": 7,
   "metadata": {},
   "outputs": [
    {
     "name": "stdout",
     "output_type": "stream",
     "text": [
      "The maximum of 2, 8, and 6 is 8\n"
     ]
    }
   ],
   "source": [
    "def maxi (a, b, c):\n",
    "    maxima = 0\n",
    "    \n",
    "    if (a > b) & (a > c):\n",
    "        maxima = a\n",
    "        return maxima\n",
    "    elif (b > a) & (b > c):\n",
    "        maxima = b\n",
    "        return maxima\n",
    "    else:\n",
    "        maxima = c\n",
    "        return maxima\n",
    "\n",
    "# Example\n",
    "a, b, c = 2, 8, 6\n",
    "\n",
    "print(\"The maximum of \" + str(a) + \", \" + str(b) + \", and \" + str(c) + \" is \"+ str(maxi(a, b, c)))"
   ]
  },
  {
   "cell_type": "markdown",
   "metadata": {},
   "source": [
    "**Bonus: How can you change the code so it can take in any number of numbers?**"
   ]
  },
  {
   "cell_type": "code",
   "execution_count": 171,
   "metadata": {},
   "outputs": [
    {
     "name": "stdout",
     "output_type": "stream",
     "text": [
      "The maximum of 26, 18, 79, 20, and 43 is 79\n"
     ]
    }
   ],
   "source": [
    "def maxi (*args):\n",
    "    maxima = 0\n",
    "    values = list(args)\n",
    "    \n",
    "    for i in values:\n",
    "        if i > maxima:\n",
    "            maxima = i\n",
    "    return maxima\n",
    "\n",
    "# Example\n",
    "a, b, c, d, e = 26, 18, 79, 20, 43\n",
    "\n",
    "print(\"The maximum of \" + str(a) + \", \" + str(b) + \", \"+ str(c) + \", \" + str(d) + \", and \" + str(e) + \" is \"+ str(maxi(a, b, c, d, e)))"
   ]
  },
  {
   "cell_type": "markdown",
   "metadata": {},
   "source": [
    "## Task 7\n",
    "Write a function that takes in a number representing the temperature in Celsius and returns the temperature in Fahrenheit. Write another function that does the opposite (Fereignheit to Celsius)"
   ]
  },
  {
   "cell_type": "code",
   "execution_count": 5,
   "metadata": {},
   "outputs": [
    {
     "name": "stdout",
     "output_type": "stream",
     "text": [
      "39 degree celsius equals 102.2 fereignheit.\n",
      "102.2 fereignheit equals 39.0 degree celsius.\n"
     ]
    }
   ],
   "source": [
    "def temparature_in_Fereignheit (Celsius):\n",
    "    Fereignheit = (Celsius * 9/5) + 32\n",
    "    return Fereignheit\n",
    "\n",
    "def temparature_in_Celsius (Fereignheit):\n",
    "    Celsius = (Fereignheit - 32) * 5/9\n",
    "    return Celsius\n",
    "\n",
    "# Example\n",
    "temp_in_celsius = 39\n",
    "temp_in_fereignheit = 102.2\n",
    "#Change values to find other temparatures\n",
    "\n",
    "print(str(temp_in_celsius) + \" degree celsius equals \" + str(temparature_in_Fereignheit(temp_in_celsius)) + \" fereignheit.\")\n",
    "print(str(temp_in_fereignheit) + \" fereignheit equals \" + str(temparature_in_Celsius(temp_in_fereignheit)) + \" degree celsius.\")"
   ]
  },
  {
   "cell_type": "markdown",
   "metadata": {},
   "source": [
    "## Task 8\n",
    "Make a function to convert any number into hours and minutes. (For example, 71 will become “1 hour, 11 minutes”; 133 will become “2 hours, 13 minutes”.)"
   ]
  },
  {
   "cell_type": "code",
   "execution_count": 32,
   "metadata": {},
   "outputs": [
    {
     "name": "stdout",
     "output_type": "stream",
     "text": [
      "3 hours, 46 minutes.\n"
     ]
    }
   ],
   "source": [
    "def time (x):\n",
    "    if x < 60:\n",
    "        print(str(x) + \" minutes.\")\n",
    "        \n",
    "    elif x > 60:\n",
    "        h = int(x/60) # this gives us the number of hours\n",
    "        m = x % 60 # the remainder of x gives us number of minutes\n",
    "        print(str(h) + \" hours, \" + str(m) + \" minutes.\")\n",
    "\n",
    "# Example\n",
    "time(226)"
   ]
  },
  {
   "cell_type": "markdown",
   "metadata": {},
   "source": [
    "## Task 9\n",
    "If we list all the natural numbers below 10 that are multiples of 3 or 5, we get 3, 5, 6 and 9. The sum of these multiples is 23.\n",
    "\n",
    "Find the sum of all the multiples of 3 or 5 below 1000."
   ]
  },
  {
   "cell_type": "code",
   "execution_count": 18,
   "metadata": {},
   "outputs": [
    {
     "name": "stdout",
     "output_type": "stream",
     "text": [
      "233168\n"
     ]
    }
   ],
   "source": [
    "import numpy as np\n",
    "\n",
    "i = 3\n",
    "a = 5\n",
    "\n",
    "mul_3 = []\n",
    "mul_5 = []\n",
    "common = []\n",
    "\n",
    "# multiples of 3 below 1000.\n",
    "while i < 1000:\n",
    "    mul_3 += [i]\n",
    "    i += 3\n",
    "\n",
    "# multiples of 5 below 1000.\n",
    "while a < 1000:\n",
    "    mul_5 += [a]\n",
    "    a += 5\n",
    "\n",
    "# multiples of 3 and 5 below 1000 that are equal.\n",
    "for i in mul_3:\n",
    "    if i in mul_5:\n",
    "        common += [i]\n",
    "        \n",
    "mul_3_and_5 = np.sum(mul_3 + mul_5)\n",
    "common_sum = np.sum(common)\n",
    "sum_of_mul = np.sum(mul_3_and_5 - common_sum) # we don't want to count common multiples of 3 and 5 twice\n",
    "\n",
    "print(sum_of_mul)"
   ]
  },
  {
   "cell_type": "markdown",
   "metadata": {},
   "source": [
    "## Task 10\n",
    "Write a function that takes in a string and then prints out all the vowels in the string. Make sure it can deal with capital letters and small letters."
   ]
  },
  {
   "cell_type": "code",
   "execution_count": 154,
   "metadata": {},
   "outputs": [
    {
     "name": "stdout",
     "output_type": "stream",
     "text": [
      "Vowels: \n",
      "O a e "
     ]
    }
   ],
   "source": [
    "vowels = ['A','a','E','e','I','i','O','o','U','u']\n",
    "\n",
    "def vowel (x):\n",
    "    ans = []\n",
    "    \n",
    "    for i in x:\n",
    "        if i in vowels:\n",
    "            ans += [i]\n",
    "            \n",
    "    print('Vowels: ')\n",
    "    for i in range(len(ans)):\n",
    "        print(ans[i], end = \" \")\n",
    "            \n",
    "vowel('Orange')"
   ]
  },
  {
   "cell_type": "markdown",
   "metadata": {},
   "source": [
    "## Task 11\n",
    "Make a function that takes two strings as input, and outputs the common characters/letters that they share. (For example, Input: ‘house’, ‘computers’ . Output: ‘Common letters: o, u, e, s’)"
   ]
  },
  {
   "cell_type": "code",
   "execution_count": 152,
   "metadata": {},
   "outputs": [
    {
     "name": "stdout",
     "output_type": "stream",
     "text": [
      "Common letters: \n",
      "a i "
     ]
    }
   ],
   "source": [
    "def compare (x, y):\n",
    "    letters = []\n",
    "    \n",
    "    for i in x:\n",
    "        if i in y:\n",
    "            letters += [i]\n",
    "            \n",
    "    print('Common letters: ')\n",
    "    for i in range(len(letters)):\n",
    "        print(letters[i], end = \" \")\n",
    "        \n",
    "# Example\n",
    "compare('alice', 'david')"
   ]
  },
  {
   "cell_type": "code",
   "execution_count": null,
   "metadata": {},
   "outputs": [],
   "source": []
  }
 ],
 "metadata": {
  "kernelspec": {
   "display_name": "Python 3",
   "language": "python",
   "name": "python3"
  },
  "language_info": {
   "codemirror_mode": {
    "name": "ipython",
    "version": 3
   },
   "file_extension": ".py",
   "mimetype": "text/x-python",
   "name": "python",
   "nbconvert_exporter": "python",
   "pygments_lexer": "ipython3",
   "version": "3.8.3"
  }
 },
 "nbformat": 4,
 "nbformat_minor": 4
}
